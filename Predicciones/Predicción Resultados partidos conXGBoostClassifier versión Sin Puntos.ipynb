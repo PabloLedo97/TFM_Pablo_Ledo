{
 "cells": [
  {
   "cell_type": "code",
   "execution_count": 3,
   "id": "c9c572a8",
   "metadata": {},
   "outputs": [],
   "source": [
    "#Importamos las  librerías necesarias\n",
    "import pandas as pd\n",
    "import numpy as np\n",
    "from sklearn.model_selection import train_test_split\n",
    "from xgboost import XGBClassifier\n",
    "from sklearn import  metrics\n",
    "from sklearn.metrics import accuracy_score"
   ]
  },
  {
   "cell_type": "markdown",
   "id": "5a5b622d",
   "metadata": {},
   "source": [
    "### Paso 1: Leemos el Dataset"
   ]
  },
  {
   "cell_type": "code",
   "execution_count": 4,
   "id": "53c8b941",
   "metadata": {},
   "outputs": [
    {
     "data": {
      "text/html": [
       "<div>\n",
       "<style scoped>\n",
       "    .dataframe tbody tr th:only-of-type {\n",
       "        vertical-align: middle;\n",
       "    }\n",
       "\n",
       "    .dataframe tbody tr th {\n",
       "        vertical-align: top;\n",
       "    }\n",
       "\n",
       "    .dataframe thead th {\n",
       "        text-align: right;\n",
       "    }\n",
       "</style>\n",
       "<table border=\"1\" class=\"dataframe\">\n",
       "  <thead>\n",
       "    <tr style=\"text-align: right;\">\n",
       "      <th></th>\n",
       "      <th>Equipo</th>\n",
       "      <th>Local/Visitante</th>\n",
       "      <th>Goles_Locales</th>\n",
       "      <th>Suma_Goles_Locales_Acumulados</th>\n",
       "      <th>Goles_Visitantes</th>\n",
       "      <th>Suma_Goles_Visitantes_Acumulados</th>\n",
       "      <th>Resultados</th>\n",
       "      <th>Fecha</th>\n",
       "      <th>Temporada</th>\n",
       "    </tr>\n",
       "  </thead>\n",
       "  <tbody>\n",
       "    <tr>\n",
       "      <th>0</th>\n",
       "      <td>Málaga</td>\n",
       "      <td>Local</td>\n",
       "      <td>0</td>\n",
       "      <td>0</td>\n",
       "      <td>0</td>\n",
       "      <td>0</td>\n",
       "      <td>x</td>\n",
       "      <td>21/08/2015</td>\n",
       "      <td>2015/2016</td>\n",
       "    </tr>\n",
       "    <tr>\n",
       "      <th>1</th>\n",
       "      <td>Sevilla</td>\n",
       "      <td>Visitante</td>\n",
       "      <td>0</td>\n",
       "      <td>0</td>\n",
       "      <td>0</td>\n",
       "      <td>0</td>\n",
       "      <td>x</td>\n",
       "      <td>21/08/2015</td>\n",
       "      <td>2015/2016</td>\n",
       "    </tr>\n",
       "    <tr>\n",
       "      <th>2</th>\n",
       "      <td>Atlético</td>\n",
       "      <td>Local</td>\n",
       "      <td>1</td>\n",
       "      <td>1</td>\n",
       "      <td>0</td>\n",
       "      <td>0</td>\n",
       "      <td>1</td>\n",
       "      <td>22/08/2015</td>\n",
       "      <td>2015/2016</td>\n",
       "    </tr>\n",
       "    <tr>\n",
       "      <th>3</th>\n",
       "      <td>Las Palmas</td>\n",
       "      <td>Visitante</td>\n",
       "      <td>0</td>\n",
       "      <td>0</td>\n",
       "      <td>0</td>\n",
       "      <td>0</td>\n",
       "      <td>1</td>\n",
       "      <td>22/08/2015</td>\n",
       "      <td>2015/2016</td>\n",
       "    </tr>\n",
       "    <tr>\n",
       "      <th>4</th>\n",
       "      <td>Espanyol</td>\n",
       "      <td>Local</td>\n",
       "      <td>1</td>\n",
       "      <td>1</td>\n",
       "      <td>0</td>\n",
       "      <td>0</td>\n",
       "      <td>1</td>\n",
       "      <td>22/08/2015</td>\n",
       "      <td>2015/2016</td>\n",
       "    </tr>\n",
       "    <tr>\n",
       "      <th>...</th>\n",
       "      <td>...</td>\n",
       "      <td>...</td>\n",
       "      <td>...</td>\n",
       "      <td>...</td>\n",
       "      <td>...</td>\n",
       "      <td>...</td>\n",
       "      <td>...</td>\n",
       "      <td>...</td>\n",
       "      <td>...</td>\n",
       "    </tr>\n",
       "    <tr>\n",
       "      <th>5315</th>\n",
       "      <td>Villarreal</td>\n",
       "      <td>Visitante</td>\n",
       "      <td>0</td>\n",
       "      <td>0</td>\n",
       "      <td>2</td>\n",
       "      <td>20</td>\n",
       "      <td>2</td>\n",
       "      <td>22/05/2022</td>\n",
       "      <td>2021/2022</td>\n",
       "    </tr>\n",
       "    <tr>\n",
       "      <th>5316</th>\n",
       "      <td>R. Sociedad</td>\n",
       "      <td>Local</td>\n",
       "      <td>1</td>\n",
       "      <td>16</td>\n",
       "      <td>0</td>\n",
       "      <td>0</td>\n",
       "      <td>2</td>\n",
       "      <td>22/05/2022</td>\n",
       "      <td>2021/2022</td>\n",
       "    </tr>\n",
       "    <tr>\n",
       "      <th>5317</th>\n",
       "      <td>Atlético</td>\n",
       "      <td>Visitante</td>\n",
       "      <td>0</td>\n",
       "      <td>0</td>\n",
       "      <td>2</td>\n",
       "      <td>32</td>\n",
       "      <td>2</td>\n",
       "      <td>22/05/2022</td>\n",
       "      <td>2021/2022</td>\n",
       "    </tr>\n",
       "    <tr>\n",
       "      <th>5318</th>\n",
       "      <td>Sevilla</td>\n",
       "      <td>Local</td>\n",
       "      <td>1</td>\n",
       "      <td>36</td>\n",
       "      <td>0</td>\n",
       "      <td>0</td>\n",
       "      <td>1</td>\n",
       "      <td>22/05/2022</td>\n",
       "      <td>2021/2022</td>\n",
       "    </tr>\n",
       "    <tr>\n",
       "      <th>5319</th>\n",
       "      <td>Athletic</td>\n",
       "      <td>Visitante</td>\n",
       "      <td>0</td>\n",
       "      <td>0</td>\n",
       "      <td>0</td>\n",
       "      <td>14</td>\n",
       "      <td>1</td>\n",
       "      <td>22/05/2022</td>\n",
       "      <td>2021/2022</td>\n",
       "    </tr>\n",
       "  </tbody>\n",
       "</table>\n",
       "<p>5320 rows × 9 columns</p>\n",
       "</div>"
      ],
      "text/plain": [
       "           Equipo Local/Visitante  Goles_Locales  \\\n",
       "0          Málaga           Local              0   \n",
       "1         Sevilla       Visitante              0   \n",
       "2        Atlético           Local              1   \n",
       "3      Las Palmas       Visitante              0   \n",
       "4        Espanyol           Local              1   \n",
       "...           ...             ...            ...   \n",
       "5315   Villarreal       Visitante              0   \n",
       "5316  R. Sociedad           Local              1   \n",
       "5317     Atlético       Visitante              0   \n",
       "5318      Sevilla           Local              1   \n",
       "5319     Athletic       Visitante              0   \n",
       "\n",
       "      Suma_Goles_Locales_Acumulados  Goles_Visitantes  \\\n",
       "0                                 0                 0   \n",
       "1                                 0                 0   \n",
       "2                                 1                 0   \n",
       "3                                 0                 0   \n",
       "4                                 1                 0   \n",
       "...                             ...               ...   \n",
       "5315                              0                 2   \n",
       "5316                             16                 0   \n",
       "5317                              0                 2   \n",
       "5318                             36                 0   \n",
       "5319                              0                 0   \n",
       "\n",
       "      Suma_Goles_Visitantes_Acumulados Resultados       Fecha  Temporada  \n",
       "0                                    0          x  21/08/2015  2015/2016  \n",
       "1                                    0          x  21/08/2015  2015/2016  \n",
       "2                                    0          1  22/08/2015  2015/2016  \n",
       "3                                    0          1  22/08/2015  2015/2016  \n",
       "4                                    0          1  22/08/2015  2015/2016  \n",
       "...                                ...        ...         ...        ...  \n",
       "5315                                20          2  22/05/2022  2021/2022  \n",
       "5316                                 0          2  22/05/2022  2021/2022  \n",
       "5317                                32          2  22/05/2022  2021/2022  \n",
       "5318                                 0          1  22/05/2022  2021/2022  \n",
       "5319                                14          1  22/05/2022  2021/2022  \n",
       "\n",
       "[5320 rows x 9 columns]"
      ]
     },
     "execution_count": 4,
     "metadata": {},
     "output_type": "execute_result"
    }
   ],
   "source": [
    "dataset_estadisticas_definitivo = pd.read_csv(r\"https://raw.githubusercontent.com/PabloLedo97/Datasets-Master-Big-Data/main/DatasetDefinitivo_Pablo_Ledo.csv\",sep=\";\",encoding='latin-1');\n",
    "dataset_estadisticas_definitivo"
   ]
  },
  {
   "cell_type": "markdown",
   "id": "43088fc7",
   "metadata": {},
   "source": [
    "### Paso 2: Definimos  la matriz de entrenamiento y el conjunto de prueba"
   ]
  },
  {
   "cell_type": "code",
   "execution_count": 5,
   "id": "97907819",
   "metadata": {},
   "outputs": [],
   "source": [
    "#Definimos las columnas del dataset que van a participar en la matriz\n",
    "goles_locales = dataset_estadisticas_definitivo.Goles_Locales.tolist()\n",
    "goles_locales_acumulados = dataset_estadisticas_definitivo.Suma_Goles_Locales_Acumulados.tolist()\n",
    "goles_visitantes = dataset_estadisticas_definitivo.Goles_Visitantes.tolist()\n",
    "goles_visitantes_acumulados = dataset_estadisticas_definitivo.Suma_Goles_Visitantes_Acumulados.tolist()\n",
    "\n",
    "#Generamos la matriz\n",
    "matriz =np.array([goles_locales,goles_locales_acumulados,goles_visitantes,goles_visitantes_acumulados])\n",
    "\n",
    "\n",
    "#Generamos el vector con el conjunto de datos que queremos predecir\n",
    "vector = dataset_estadisticas_definitivo.Resultados.tolist()"
   ]
  },
  {
   "cell_type": "markdown",
   "id": "e83fc6f8",
   "metadata": {},
   "source": [
    "### Paso 3: División de los datos en conjunto de entrenamiento y test"
   ]
  },
  {
   "cell_type": "code",
   "execution_count": 6,
   "id": "797a2024",
   "metadata": {},
   "outputs": [],
   "source": [
    "#Conjunto de entrenamiento\n",
    "X_train = matriz.transpose()   \n",
    "y_train = vector\n",
    "\n",
    "X_train, X_test, y_train, y_test = train_test_split(X_train,y_train,test_size= 0.2,random_state = 123)"
   ]
  },
  {
   "cell_type": "markdown",
   "id": "75294efd",
   "metadata": {},
   "source": [
    "### Paso 4:  Definición Modelo"
   ]
  },
  {
   "cell_type": "code",
   "execution_count": 7,
   "id": "0989fbc3",
   "metadata": {},
   "outputs": [],
   "source": [
    "modelo = XGBClassifier()"
   ]
  },
  {
   "cell_type": "markdown",
   "id": "a02d3115",
   "metadata": {},
   "source": [
    "### Paso 5:  Entrenamiento del Modelo"
   ]
  },
  {
   "cell_type": "code",
   "execution_count": 8,
   "id": "4bd1831d",
   "metadata": {},
   "outputs": [
    {
     "name": "stderr",
     "output_type": "stream",
     "text": [
      "C:\\Users\\usuario\\anaconda3\\lib\\site-packages\\xgboost\\sklearn.py:1224: UserWarning: The use of label encoder in XGBClassifier is deprecated and will be removed in a future release. To remove this warning, do the following: 1) Pass option use_label_encoder=False when constructing XGBClassifier object; and 2) Encode your labels (y) as integers starting with 0, i.e. 0, 1, 2, ..., [num_class - 1].\n",
      "  warnings.warn(label_encoder_deprecation_msg, UserWarning)\n"
     ]
    },
    {
     "name": "stdout",
     "output_type": "stream",
     "text": [
      "[18:05:52] WARNING: ..\\src\\learner.cc:1115: Starting in XGBoost 1.3.0, the default evaluation metric used with the objective 'multi:softprob' was changed from 'merror' to 'mlogloss'. Explicitly set eval_metric if you'd like to restore the old behavior.\n"
     ]
    },
    {
     "data": {
      "text/plain": [
       "XGBClassifier(base_score=0.5, booster='gbtree', colsample_bylevel=1,\n",
       "              colsample_bynode=1, colsample_bytree=1, enable_categorical=False,\n",
       "              gamma=0, gpu_id=-1, importance_type=None,\n",
       "              interaction_constraints='', learning_rate=0.300000012,\n",
       "              max_delta_step=0, max_depth=6, min_child_weight=1, missing=nan,\n",
       "              monotone_constraints='()', n_estimators=100, n_jobs=12,\n",
       "              num_parallel_tree=1, objective='multi:softprob', predictor='auto',\n",
       "              random_state=0, reg_alpha=0, reg_lambda=1, scale_pos_weight=None,\n",
       "              subsample=1, tree_method='exact', validate_parameters=1,\n",
       "              verbosity=None)"
      ]
     },
     "execution_count": 8,
     "metadata": {},
     "output_type": "execute_result"
    }
   ],
   "source": [
    "modelo.fit(X_train, y_train)"
   ]
  },
  {
   "cell_type": "markdown",
   "id": "c90939e4",
   "metadata": {},
   "source": [
    "### Paso 6: Realizamos la predicción"
   ]
  },
  {
   "cell_type": "code",
   "execution_count": 9,
   "id": "7c4dedef",
   "metadata": {},
   "outputs": [
    {
     "data": {
      "text/plain": [
       "array(['x', '1', '2', ..., '1', '1', '1'], dtype='<U1')"
      ]
     },
     "execution_count": 9,
     "metadata": {},
     "output_type": "execute_result"
    }
   ],
   "source": [
    "predicciones = modelo.predict(X = X_test)\n",
    "predicciones"
   ]
  },
  {
   "cell_type": "markdown",
   "id": "0b85c3d6",
   "metadata": {},
   "source": [
    "### Paso 7: Evaluación modelo"
   ]
  },
  {
   "cell_type": "markdown",
   "id": "bbcd6d8a",
   "metadata": {},
   "source": [
    "#### Cálculo accuracy"
   ]
  },
  {
   "cell_type": "code",
   "execution_count": 10,
   "id": "eb4cff87",
   "metadata": {},
   "outputs": [
    {
     "name": "stdout",
     "output_type": "stream",
     "text": [
      "El accuracy de test es: 60.6203007518797 %\n"
     ]
    }
   ],
   "source": [
    "accuracy = accuracy_score(y_true= y_test,y_pred= predicciones,normalize = True)\n",
    "print(f\"El accuracy de test es: {100 * accuracy} %\")"
   ]
  },
  {
   "cell_type": "markdown",
   "id": "35f3c768",
   "metadata": {},
   "source": [
    "#### Cálculo Matriz de Confusión"
   ]
  },
  {
   "cell_type": "code",
   "execution_count": 11,
   "id": "22b7156c",
   "metadata": {},
   "outputs": [
    {
     "name": "stdout",
     "output_type": "stream",
     "text": [
      "[[386  35  81]\n",
      " [ 54 198  51]\n",
      " [111  87  61]]\n"
     ]
    }
   ],
   "source": [
    "from sklearn.metrics import confusion_matrix\n",
    "\n",
    "matriz_confusion = confusion_matrix(y_test,predicciones)\n",
    "print(matriz_confusion)"
   ]
  },
  {
   "cell_type": "markdown",
   "id": "22e5a07e",
   "metadata": {},
   "source": [
    "#### Clasification Report"
   ]
  },
  {
   "cell_type": "code",
   "execution_count": 12,
   "id": "ae127f00",
   "metadata": {},
   "outputs": [
    {
     "name": "stdout",
     "output_type": "stream",
     "text": [
      "              precision    recall  f1-score   support\n",
      "\n",
      "           1       0.70      0.77      0.73       502\n",
      "           2       0.62      0.65      0.64       303\n",
      "           x       0.32      0.24      0.27       259\n",
      "\n",
      "    accuracy                           0.61      1064\n",
      "   macro avg       0.55      0.55      0.55      1064\n",
      "weighted avg       0.58      0.61      0.59      1064\n",
      "\n"
     ]
    }
   ],
   "source": [
    "from sklearn.metrics import classification_report\n",
    "\n",
    "reporte_clasificacion = classification_report(y_test, predicciones)\n",
    "\n",
    "print(reporte_clasificacion)"
   ]
  },
  {
   "cell_type": "code",
   "execution_count": null,
   "id": "009c26ec",
   "metadata": {},
   "outputs": [],
   "source": []
  }
 ],
 "metadata": {
  "kernelspec": {
   "display_name": "Python 3",
   "language": "python",
   "name": "python3"
  },
  "language_info": {
   "codemirror_mode": {
    "name": "ipython",
    "version": 3
   },
   "file_extension": ".py",
   "mimetype": "text/x-python",
   "name": "python",
   "nbconvert_exporter": "python",
   "pygments_lexer": "ipython3",
   "version": "3.8.8"
  }
 },
 "nbformat": 4,
 "nbformat_minor": 5
}
