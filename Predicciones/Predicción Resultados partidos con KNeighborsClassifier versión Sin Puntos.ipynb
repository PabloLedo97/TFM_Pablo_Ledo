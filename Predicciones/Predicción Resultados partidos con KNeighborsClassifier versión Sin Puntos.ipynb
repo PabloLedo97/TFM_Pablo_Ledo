{
 "cells": [
  {
   "cell_type": "code",
   "execution_count": 8,
   "id": "16f96da9",
   "metadata": {},
   "outputs": [],
   "source": [
    "#Importamos las librerías necesarias\n",
    "import pandas as pd\n",
    "import numpy as np\n",
    "from sklearn.neighbors  import KNeighborsClassifier\n",
    "from sklearn.model_selection import train_test_split\n",
    "from sklearn.metrics import accuracy_score"
   ]
  },
  {
   "cell_type": "markdown",
   "id": "c6af4017",
   "metadata": {},
   "source": [
    "### Paso 1: Leemos el Dataset"
   ]
  },
  {
   "cell_type": "code",
   "execution_count": 9,
   "id": "b94d14b7",
   "metadata": {},
   "outputs": [
    {
     "data": {
      "text/html": [
       "<div>\n",
       "<style scoped>\n",
       "    .dataframe tbody tr th:only-of-type {\n",
       "        vertical-align: middle;\n",
       "    }\n",
       "\n",
       "    .dataframe tbody tr th {\n",
       "        vertical-align: top;\n",
       "    }\n",
       "\n",
       "    .dataframe thead th {\n",
       "        text-align: right;\n",
       "    }\n",
       "</style>\n",
       "<table border=\"1\" class=\"dataframe\">\n",
       "  <thead>\n",
       "    <tr style=\"text-align: right;\">\n",
       "      <th></th>\n",
       "      <th>Equipo</th>\n",
       "      <th>Local/Visitante</th>\n",
       "      <th>Goles_Locales</th>\n",
       "      <th>Suma_Goles_Locales_Acumulados</th>\n",
       "      <th>Goles_Visitantes</th>\n",
       "      <th>Suma_Goles_Visitantes_Acumulados</th>\n",
       "      <th>Resultados</th>\n",
       "      <th>Fecha</th>\n",
       "      <th>Temporada</th>\n",
       "    </tr>\n",
       "  </thead>\n",
       "  <tbody>\n",
       "    <tr>\n",
       "      <th>0</th>\n",
       "      <td>Málaga</td>\n",
       "      <td>Local</td>\n",
       "      <td>0</td>\n",
       "      <td>0</td>\n",
       "      <td>0</td>\n",
       "      <td>0</td>\n",
       "      <td>x</td>\n",
       "      <td>21/08/2015</td>\n",
       "      <td>2015/2016</td>\n",
       "    </tr>\n",
       "    <tr>\n",
       "      <th>1</th>\n",
       "      <td>Sevilla</td>\n",
       "      <td>Visitante</td>\n",
       "      <td>0</td>\n",
       "      <td>0</td>\n",
       "      <td>0</td>\n",
       "      <td>0</td>\n",
       "      <td>x</td>\n",
       "      <td>21/08/2015</td>\n",
       "      <td>2015/2016</td>\n",
       "    </tr>\n",
       "    <tr>\n",
       "      <th>2</th>\n",
       "      <td>Atlético</td>\n",
       "      <td>Local</td>\n",
       "      <td>1</td>\n",
       "      <td>1</td>\n",
       "      <td>0</td>\n",
       "      <td>0</td>\n",
       "      <td>1</td>\n",
       "      <td>22/08/2015</td>\n",
       "      <td>2015/2016</td>\n",
       "    </tr>\n",
       "    <tr>\n",
       "      <th>3</th>\n",
       "      <td>Las Palmas</td>\n",
       "      <td>Visitante</td>\n",
       "      <td>0</td>\n",
       "      <td>0</td>\n",
       "      <td>0</td>\n",
       "      <td>0</td>\n",
       "      <td>1</td>\n",
       "      <td>22/08/2015</td>\n",
       "      <td>2015/2016</td>\n",
       "    </tr>\n",
       "    <tr>\n",
       "      <th>4</th>\n",
       "      <td>Espanyol</td>\n",
       "      <td>Local</td>\n",
       "      <td>1</td>\n",
       "      <td>1</td>\n",
       "      <td>0</td>\n",
       "      <td>0</td>\n",
       "      <td>1</td>\n",
       "      <td>22/08/2015</td>\n",
       "      <td>2015/2016</td>\n",
       "    </tr>\n",
       "    <tr>\n",
       "      <th>...</th>\n",
       "      <td>...</td>\n",
       "      <td>...</td>\n",
       "      <td>...</td>\n",
       "      <td>...</td>\n",
       "      <td>...</td>\n",
       "      <td>...</td>\n",
       "      <td>...</td>\n",
       "      <td>...</td>\n",
       "      <td>...</td>\n",
       "    </tr>\n",
       "    <tr>\n",
       "      <th>5315</th>\n",
       "      <td>Villarreal</td>\n",
       "      <td>Visitante</td>\n",
       "      <td>0</td>\n",
       "      <td>0</td>\n",
       "      <td>2</td>\n",
       "      <td>20</td>\n",
       "      <td>2</td>\n",
       "      <td>22/05/2022</td>\n",
       "      <td>2021/2022</td>\n",
       "    </tr>\n",
       "    <tr>\n",
       "      <th>5316</th>\n",
       "      <td>R. Sociedad</td>\n",
       "      <td>Local</td>\n",
       "      <td>1</td>\n",
       "      <td>16</td>\n",
       "      <td>0</td>\n",
       "      <td>0</td>\n",
       "      <td>2</td>\n",
       "      <td>22/05/2022</td>\n",
       "      <td>2021/2022</td>\n",
       "    </tr>\n",
       "    <tr>\n",
       "      <th>5317</th>\n",
       "      <td>Atlético</td>\n",
       "      <td>Visitante</td>\n",
       "      <td>0</td>\n",
       "      <td>0</td>\n",
       "      <td>2</td>\n",
       "      <td>32</td>\n",
       "      <td>2</td>\n",
       "      <td>22/05/2022</td>\n",
       "      <td>2021/2022</td>\n",
       "    </tr>\n",
       "    <tr>\n",
       "      <th>5318</th>\n",
       "      <td>Sevilla</td>\n",
       "      <td>Local</td>\n",
       "      <td>1</td>\n",
       "      <td>36</td>\n",
       "      <td>0</td>\n",
       "      <td>0</td>\n",
       "      <td>1</td>\n",
       "      <td>22/05/2022</td>\n",
       "      <td>2021/2022</td>\n",
       "    </tr>\n",
       "    <tr>\n",
       "      <th>5319</th>\n",
       "      <td>Athletic</td>\n",
       "      <td>Visitante</td>\n",
       "      <td>0</td>\n",
       "      <td>0</td>\n",
       "      <td>0</td>\n",
       "      <td>14</td>\n",
       "      <td>1</td>\n",
       "      <td>22/05/2022</td>\n",
       "      <td>2021/2022</td>\n",
       "    </tr>\n",
       "  </tbody>\n",
       "</table>\n",
       "<p>5320 rows × 9 columns</p>\n",
       "</div>"
      ],
      "text/plain": [
       "           Equipo Local/Visitante  Goles_Locales  \\\n",
       "0          Málaga           Local              0   \n",
       "1         Sevilla       Visitante              0   \n",
       "2        Atlético           Local              1   \n",
       "3      Las Palmas       Visitante              0   \n",
       "4        Espanyol           Local              1   \n",
       "...           ...             ...            ...   \n",
       "5315   Villarreal       Visitante              0   \n",
       "5316  R. Sociedad           Local              1   \n",
       "5317     Atlético       Visitante              0   \n",
       "5318      Sevilla           Local              1   \n",
       "5319     Athletic       Visitante              0   \n",
       "\n",
       "      Suma_Goles_Locales_Acumulados  Goles_Visitantes  \\\n",
       "0                                 0                 0   \n",
       "1                                 0                 0   \n",
       "2                                 1                 0   \n",
       "3                                 0                 0   \n",
       "4                                 1                 0   \n",
       "...                             ...               ...   \n",
       "5315                              0                 2   \n",
       "5316                             16                 0   \n",
       "5317                              0                 2   \n",
       "5318                             36                 0   \n",
       "5319                              0                 0   \n",
       "\n",
       "      Suma_Goles_Visitantes_Acumulados Resultados       Fecha  Temporada  \n",
       "0                                    0          x  21/08/2015  2015/2016  \n",
       "1                                    0          x  21/08/2015  2015/2016  \n",
       "2                                    0          1  22/08/2015  2015/2016  \n",
       "3                                    0          1  22/08/2015  2015/2016  \n",
       "4                                    0          1  22/08/2015  2015/2016  \n",
       "...                                ...        ...         ...        ...  \n",
       "5315                                20          2  22/05/2022  2021/2022  \n",
       "5316                                 0          2  22/05/2022  2021/2022  \n",
       "5317                                32          2  22/05/2022  2021/2022  \n",
       "5318                                 0          1  22/05/2022  2021/2022  \n",
       "5319                                14          1  22/05/2022  2021/2022  \n",
       "\n",
       "[5320 rows x 9 columns]"
      ]
     },
     "execution_count": 9,
     "metadata": {},
     "output_type": "execute_result"
    }
   ],
   "source": [
    "dataset_estadisticas_definitivo = pd.read_csv(r\"https://raw.githubusercontent.com/PabloLedo97/Datasets-Master-Big-Data/main/DatasetDefinitivo_Pablo_Ledo.csv\",sep=\";\",encoding='latin-1');\n",
    "dataset_estadisticas_definitivo"
   ]
  },
  {
   "cell_type": "markdown",
   "id": "dfe2d708",
   "metadata": {},
   "source": [
    "### Paso 2: Definimos  la matriz de entrenamiento y el conjunto de prueba"
   ]
  },
  {
   "cell_type": "code",
   "execution_count": 10,
   "id": "2e41f131",
   "metadata": {},
   "outputs": [],
   "source": [
    "#Definimos las columnas del dataset que van a participar en la matriz\n",
    "goles_locales = dataset_estadisticas_definitivo.Goles_Locales.tolist()\n",
    "goles_locales_acumulados = dataset_estadisticas_definitivo.Suma_Goles_Locales_Acumulados.tolist()\n",
    "goles_visitantes = dataset_estadisticas_definitivo.Goles_Visitantes.tolist()\n",
    "goles_visitantes_acumulados = dataset_estadisticas_definitivo.Suma_Goles_Visitantes_Acumulados.tolist()\n",
    "\n",
    "#Generamos la matriz\n",
    "matriz =np.array([goles_locales,goles_locales_acumulados,goles_visitantes,goles_visitantes_acumulados])\n",
    "\n",
    "\n",
    "#Generamos el vector con el conjunto de datos que queremos predecir\n",
    "vector = dataset_estadisticas_definitivo.Resultados.tolist()"
   ]
  },
  {
   "cell_type": "markdown",
   "id": "db9cb6eb",
   "metadata": {},
   "source": [
    "### Paso 3: División de los datos en conjunto de entrenamiento y test"
   ]
  },
  {
   "cell_type": "code",
   "execution_count": 12,
   "id": "294d2ab0",
   "metadata": {},
   "outputs": [],
   "source": [
    "#Conjunto de entrenamiento\n",
    "X = matriz.transpose()\n",
    "Y = vector\n",
    "X, X_test,Y, y_test = train_test_split(X,Y,test_size= 0.1,random_state = 123)"
   ]
  },
  {
   "cell_type": "markdown",
   "id": "b417bc8f",
   "metadata": {},
   "source": [
    "### Paso 4:  Definición Modelo"
   ]
  },
  {
   "cell_type": "code",
   "execution_count": 13,
   "id": "d03c881c",
   "metadata": {},
   "outputs": [],
   "source": [
    "knn = KNeighborsClassifier(n_neighbors=5)"
   ]
  },
  {
   "cell_type": "markdown",
   "id": "f6c430ab",
   "metadata": {},
   "source": [
    "### Paso 5:  Entrenamiento del Modelo"
   ]
  },
  {
   "cell_type": "code",
   "execution_count": 14,
   "id": "e3f9fa4d",
   "metadata": {},
   "outputs": [
    {
     "data": {
      "text/plain": [
       "KNeighborsClassifier()"
      ]
     },
     "execution_count": 14,
     "metadata": {},
     "output_type": "execute_result"
    }
   ],
   "source": [
    "knn.fit(X, Y)"
   ]
  },
  {
   "cell_type": "markdown",
   "id": "f0d6ab1f",
   "metadata": {},
   "source": [
    "### Paso 6: Realizamos la predicción"
   ]
  },
  {
   "cell_type": "code",
   "execution_count": 15,
   "id": "42b3a327",
   "metadata": {},
   "outputs": [
    {
     "data": {
      "text/plain": [
       "array(['x', '1', '2', '1', '1', '1', '1', 'x', 'x', '1', '1', '2', '1',\n",
       "       'x', '1', '2', '1', '1', 'x', '1', '2', '1', 'x', '1', '2', 'x',\n",
       "       '1', '1', '1', '2', '2', '1', '2', '1', '2', '1', '1', '1', '2',\n",
       "       '1', '2', '2', '1', '1', '1', 'x', '2', '2', '1', '2', '2', '1',\n",
       "       '1', '1', 'x', '1', '1', 'x', '1', '2', '1', '1', '2', 'x', '2',\n",
       "       '1', 'x', 'x', '1', '1', '1', 'x', '2', '1', '1', '2', '2', '2',\n",
       "       '1', '2', 'x', '2', '2', '2', 'x', 'x', '2', '1', '1', 'x', '1',\n",
       "       '1', 'x', '1', '2', '1', '1', '1', '1', '1', '1', '1', 'x', '1',\n",
       "       'x', '1', 'x', '1', '2', '1', 'x', 'x', '1', '2', '2', '2', 'x',\n",
       "       '2', '2', '1', '2', '2', '1', '2', '1', '1', '2', '1', '2', '1',\n",
       "       '1', '1', '1', '2', '2', '1', '1', '1', '2', '1', 'x', '1', '2',\n",
       "       'x', '1', '2', '1', '2', '1', '1', '1', 'x', '2', '2', '1', '1',\n",
       "       '1', '1', '2', '2', '1', '1', '1', '1', '1', '1', '1', '1', 'x',\n",
       "       '1', '1', 'x', '1', '1', '1', '1', '2', '1', '2', '2', 'x', '1',\n",
       "       '1', 'x', '2', '2', 'x', 'x', '2', '1', 'x', '1', '2', '1', 'x',\n",
       "       '1', '1', '1', '2', 'x', '2', '1', 'x', '1', '1', '1', '1', '1',\n",
       "       'x', 'x', '1', '2', 'x', 'x', '1', '1', '1', '1', '1', '2', '2',\n",
       "       '2', '2', '1', 'x', 'x', '1', '1', '1', 'x', '1', '1', 'x', '1',\n",
       "       '2', 'x', '2', '1', 'x', 'x', '1', '1', '1', '2', '1', '2', '1',\n",
       "       '1', '1', 'x', 'x', '2', '1', '1', '1', 'x', '1', '2', '1', '1',\n",
       "       'x', '2', '2', '1', '1', '2', '1', '2', '1', '1', '1', '2', '1',\n",
       "       '2', 'x', '1', '2', '1', '2', '2', '2', '1', '2', '1', '2', '1',\n",
       "       '1', '1', '2', '2', '1', '1', 'x', '1', '1', '1', '1', '2', '2',\n",
       "       '2', 'x', '2', 'x', '1', '1', '2', '1', '1', '2', '1', '1', '1',\n",
       "       'x', '1', '1', '2', '1', '2', '1', '1', '2', '1', 'x', '2', '1',\n",
       "       '1', '2', '1', '2', '1', '1', 'x', '1', '2', '2', '1', '1', 'x',\n",
       "       'x', '1', '1', '1', 'x', '2', 'x', '2', '1', '1', '1', '2', '1',\n",
       "       '2', 'x', '2', '1', '1', 'x', '2', '1', '2', '2', '1', '1', '2',\n",
       "       '1', '2', 'x', '2', '2', 'x', '1', '1', '2', '2', 'x', 'x', '2',\n",
       "       '1', '2', '1', '1', '1', '2', '2', '2', '1', '1', '1', '1', '1',\n",
       "       '2', '2', 'x', '1', '1', '2', 'x', '1', '1', '1', '1', '1', 'x',\n",
       "       '1', '2', '1', '1', '1', '1', '1', 'x', '2', '1', 'x', '1', '1',\n",
       "       'x', 'x', '1', '1', '1', '1', 'x', '1', '2', 'x', '2', 'x', '1',\n",
       "       '2', 'x', '1', '1', '1', '2', '1', '1', 'x', '1', '2', '1', '1',\n",
       "       '2', '2', '2', '1', '1', '2', '1', '1', '2', '2', '2', '1', '1',\n",
       "       '1', '1', 'x', 'x', 'x', '1', '1', '2', 'x', '1', '1', '1', '1',\n",
       "       '2', '1', '1', '2', 'x', '1', 'x', '2', '2', '2', '2', '1', '2',\n",
       "       '1', '2', '1', 'x', '1', 'x', '1', '1', '1', '2', '1', '2', '1',\n",
       "       '2', '1', '2', '1', '1', '2', '1', 'x', '2', '1', 'x', '1', '1',\n",
       "       '1', '2', '1', 'x', 'x', 'x', '2', '2', '2', 'x', '2', '1', '1',\n",
       "       '1', '2', '1', '2', '1', '2', '2', '1', '1', 'x', '1', '1'],\n",
       "      dtype='<U1')"
      ]
     },
     "execution_count": 15,
     "metadata": {},
     "output_type": "execute_result"
    }
   ],
   "source": [
    "predicciones = knn.predict(X_test)\n",
    "predicciones"
   ]
  },
  {
   "cell_type": "markdown",
   "id": "85cc6808",
   "metadata": {},
   "source": [
    "### Paso 7: Evaluación modelo"
   ]
  },
  {
   "cell_type": "markdown",
   "id": "df3f652b",
   "metadata": {},
   "source": [
    "#### Cálculo accuracy"
   ]
  },
  {
   "cell_type": "code",
   "execution_count": 16,
   "id": "ff273337",
   "metadata": {},
   "outputs": [
    {
     "name": "stdout",
     "output_type": "stream",
     "text": [
      "El accuracy de test es: 56.766917293233085 %\n"
     ]
    }
   ],
   "source": [
    "accuracy = accuracy_score(y_true= y_test,y_pred= predicciones,normalize = True)\n",
    "print(f\"El accuracy de test es: {100 * accuracy} %\")"
   ]
  },
  {
   "cell_type": "markdown",
   "id": "5164f6b8",
   "metadata": {},
   "source": [
    "#### Cálculo Matriz de Confusión"
   ]
  },
  {
   "cell_type": "code",
   "execution_count": 18,
   "id": "0e83fa7d",
   "metadata": {},
   "outputs": [
    {
     "name": "stdout",
     "output_type": "stream",
     "text": [
      "[[190  28  35]\n",
      " [ 25  89  39]\n",
      " [ 62  41  23]]\n"
     ]
    }
   ],
   "source": [
    "from sklearn.metrics import confusion_matrix\n",
    "\n",
    "matriz_confusion = confusion_matrix(y_test,predicciones)\n",
    "print(matriz_confusion)"
   ]
  },
  {
   "cell_type": "markdown",
   "id": "b29adee8",
   "metadata": {},
   "source": [
    "#### Clasification Report"
   ]
  },
  {
   "cell_type": "code",
   "execution_count": 19,
   "id": "c6dd1208",
   "metadata": {},
   "outputs": [
    {
     "name": "stdout",
     "output_type": "stream",
     "text": [
      "              precision    recall  f1-score   support\n",
      "\n",
      "           1       0.69      0.75      0.72       253\n",
      "           2       0.56      0.58      0.57       153\n",
      "           x       0.24      0.18      0.21       126\n",
      "\n",
      "    accuracy                           0.57       532\n",
      "   macro avg       0.50      0.51      0.50       532\n",
      "weighted avg       0.54      0.57      0.55       532\n",
      "\n"
     ]
    }
   ],
   "source": [
    "from sklearn.metrics import classification_report\n",
    "\n",
    "reporte_clasificacion = classification_report(y_test, predicciones)\n",
    "\n",
    "print(reporte_clasificacion)"
   ]
  },
  {
   "cell_type": "code",
   "execution_count": null,
   "id": "46e651a3",
   "metadata": {},
   "outputs": [],
   "source": []
  }
 ],
 "metadata": {
  "kernelspec": {
   "display_name": "Python 3",
   "language": "python",
   "name": "python3"
  },
  "language_info": {
   "codemirror_mode": {
    "name": "ipython",
    "version": 3
   },
   "file_extension": ".py",
   "mimetype": "text/x-python",
   "name": "python",
   "nbconvert_exporter": "python",
   "pygments_lexer": "ipython3",
   "version": "3.8.8"
  }
 },
 "nbformat": 4,
 "nbformat_minor": 5
}
